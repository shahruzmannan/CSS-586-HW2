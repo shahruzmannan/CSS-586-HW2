{
 "cells": [
  {
   "cell_type": "code",
   "execution_count": 1,
   "id": "b9052a6c",
   "metadata": {},
   "outputs": [],
   "source": [
    "import pandas as pd\n",
    "import numpy as np\n",
    "import matplotlib.pyplot as plt\n",
    "\n",
    "from tensorflow.keras.datasets import mnist\n",
    "\n",
    "from keras.layers import Dense\n",
    "from keras.models import Sequential, load_model\n",
    "from tensorflow.keras.utils import to_categorical\n",
    "from sklearn.model_selection import KFold\n",
    "\n",
    "from os.path import exists\n",
    "import datetime\n",
    "from keras.callbacks import TensorBoard\n",
    "from keras.callbacks import ModelCheckpoint\n",
    "\n",
    "from sklearn.metrics import precision_score, recall_score, f1_score"
   ]
  },
  {
   "cell_type": "code",
   "execution_count": 2,
   "id": "c6cfd29f",
   "metadata": {},
   "outputs": [],
   "source": [
    "# Load the TensorBoard notebook extension\n",
    "%load_ext tensorboard"
   ]
  },
  {
   "cell_type": "code",
   "execution_count": 3,
   "id": "ecf4db80",
   "metadata": {},
   "outputs": [
    {
     "name": "stdout",
     "output_type": "stream",
     "text": [
      "X_train: (60000, 28, 28)\n",
      "Y_train: (60000,)\n",
      "X_test:  (10000, 28, 28)\n",
      "Y_test:  (10000,)\n"
     ]
    }
   ],
   "source": [
    "# load data\n",
    "(x_train, y_train), (x_test, y_test) = mnist.load_data()\n",
    "\n",
    "print('X_train: ' + str(x_train.shape))\n",
    "print('Y_train: ' + str(y_train.shape))\n",
    "print('X_test:  '  + str(x_test.shape))\n",
    "print('Y_test:  '  + str(y_test.shape))"
   ]
  },
  {
   "cell_type": "code",
   "execution_count": 4,
   "id": "4a49eb40",
   "metadata": {},
   "outputs": [
    {
     "data": {
      "text/plain": [
       "<matplotlib.image.AxesImage at 0x28f54d6d310>"
      ]
     },
     "execution_count": 4,
     "metadata": {},
     "output_type": "execute_result"
    },
    {
     "data": {
      "image/png": "[encoded data removed]",
      "text/plain": [
       "<Figure size 432x288 with 1 Axes>"
      ]
     },
     "metadata": {
      "needs_background": "light"
     },
     "output_type": "display_data"
    }
   ],
   "source": [
    "# Plot to see what the data looks like\n",
    "plt.imshow(x_train[0])"
   ]
  },
  {
   "cell_type": "code",
   "execution_count": 5,
   "id": "beeb325a",
   "metadata": {},
   "outputs": [
    {
     "name": "stdout",
     "output_type": "stream",
     "text": [
      "(60000, 28, 28) (60000, 784)\n",
      "(10000, 28, 28) (10000, 784)\n"
     ]
    }
   ],
   "source": [
    "# Make x_train & x_test pixels to 1D vectors\n",
    "x_train1D = []\n",
    "x_test1D = []\n",
    "for x in x_train:\n",
    "    x_train1D.append(x.flatten())\n",
    "\n",
    "for x in x_test:\n",
    "    x_test1D.append(x.flatten())\n",
    "\n",
    "x_train1D = np.array(x_train1D)/255\n",
    "x_test1D = np.array(x_test1D)/255\n",
    "\n",
    "print(x_train.shape, x_train1D.shape)\n",
    "print(x_test.shape, x_test1D.shape)\n"
   ]
  },
  {
   "cell_type": "code",
   "execution_count": 6,
   "id": "87eaa057",
   "metadata": {},
   "outputs": [],
   "source": [
    "# One hot encoding on y_train \n",
    "y_trainVect = to_categorical(y_train, num_classes=10)\n",
    "y_testVect = to_categorical(y_test, num_classes=10)"
   ]
  },
  {
   "cell_type": "code",
   "execution_count": 7,
   "id": "4d25e5aa",
   "metadata": {},
   "outputs": [],
   "source": [
    "# Creating the model\n",
    "def create_model():    \n",
    "    model = Sequential()\n",
    "    model.add(Dense(256, activation = 'relu', input_dim=x_train1D.shape[1]))\n",
    "    model.add(Dense(128, activation = 'relu'))\n",
    "    model.add(Dense(10, activation = 'softmax'))\n",
    "    \n",
    "    model.compile(optimizer=\"adam\", loss=\"categorical_crossentropy\", metrics=['accuracy'])\n",
    "    \n",
    "    return model"
   ]
  },
  {
   "cell_type": "code",
   "execution_count": null,
   "id": "58168e2f",
   "metadata": {
    "scrolled": true
   },
   "outputs": [],
   "source": [
    "#Tensorboard\n",
    "log_dir = \"logs1/fit/\" + datetime.datetime.now().strftime(\"%Y%m%d-%H%M%S\")\n",
    "tensorboard = TensorBoard(log_dir=log_dir, histogram_freq=1, write_graph=True, write_images=True, update_freq='epoch')\n",
    "\n",
    " #Checkpoint\n",
    "chekpoint_path= \"Q5.weights.best.hdf5\"\n",
    "checkpoint = ModelCheckpoint(chekpoint_path, monitor='accuracy', verbose=1, save_best_only=True, mode='max')\n",
    "\n",
    "callbacks = [tensorboard, checkpoint]\n",
    "\n",
    "if exists(chekpoint_path):\n",
    "    # Load model\n",
    "    model = load_model(chekpoint_path)\n",
    "    # Finding the epoch index from which we are resuming\n",
    "    initial_epoch = 0\n",
    "else:\n",
    "    model = create_model()\n",
    "    initial_epoch = 0\n",
    "\n",
    "# Fit the model\n",
    "history = model.fit(x_train1D, y_trainVect, epochs=15, batch_size=32, callbacks=callbacks, initial_epoch=initial_epoch)"
   ]
  },
  {
   "cell_type": "code",
   "execution_count": 9,
   "id": "92936be2",
   "metadata": {},
   "outputs": [
    {
     "name": "stdout",
     "output_type": "stream",
     "text": [
      "Precision:  0.98115245854703\n",
      "Recall:  0.9807967382051895\n",
      "F1 score:  0.9809385594300339\n"
     ]
    }
   ],
   "source": [
    "pred = model.predict(x_test1D)\n",
    "\n",
    "class_pred = np.argmax(pred, axis=-1)\n",
    "\n",
    "# Calculate precision, recall, f1-score\n",
    "precision = precision_score(y_test, class_pred, average='macro')\n",
    "recall = recall_score(y_test, class_pred, average='macro')\n",
    "f1 = f1_score(y_test, class_pred, average='macro')\n",
    "\n",
    "print(\"Precision: \", precision)\n",
    "print(\"Recall: \", recall)\n",
    "print(\"F1 score: \", f1)"
   ]
  },
  {
   "cell_type": "code",
   "execution_count": null,
   "id": "08fb2846",
   "metadata": {},
   "outputs": [],
   "source": []
  }
 ],
 "metadata": {
  "kernelspec": {
   "display_name": "Python 3",
   "language": "python",
   "name": "python3"
  },
  "language_info": {
   "codemirror_mode": {
    "name": "ipython",
    "version": 3
   },
   "file_extension": ".py",
   "mimetype": "text/x-python",
   "name": "python",
   "nbconvert_exporter": "python",
   "pygments_lexer": "ipython3",
   "version": "3.9.7"
  }
 },
 "nbformat": 4,
 "nbformat_minor": 5
}
