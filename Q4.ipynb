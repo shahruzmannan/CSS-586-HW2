{
 "cells": [
  {
   "cell_type": "code",
   "execution_count": 1,
   "id": "1a8d8ac6",
   "metadata": {},
   "outputs": [],
   "source": [
    "import pandas as pd\n",
    "import numpy as np\n",
    "import matplotlib.pyplot as plt\n",
    "from sklearn.datasets import make_moons\n",
    "\n",
    "from tensorflow.keras.optimizers import SGD\n",
    "\n",
    "from keras.models import Sequential, load_model\n",
    "from keras.layers import Dense\n",
    "\n",
    "from keras.callbacks import TensorBoard\n",
    "from keras.callbacks import ModelCheckpoint\n",
    "\n",
    "from sklearn.model_selection import train_test_split\n",
    "from os.path import exists\n",
    "import datetime"
   ]
  },
  {
   "cell_type": "code",
   "execution_count": 2,
   "id": "e9c63316",
   "metadata": {},
   "outputs": [],
   "source": [
    "# Load the TensorBoard notebook extension\n",
    "%load_ext tensorboard"
   ]
  },
  {
   "cell_type": "code",
   "execution_count": 3,
   "id": "9c32e4ab",
   "metadata": {},
   "outputs": [
    {
     "name": "stdout",
     "output_type": "stream",
     "text": [
      "[[ 0.65277679  0.56640848]\n",
      " [ 0.28492177 -0.25652947]\n",
      " [-0.17919274  0.938596  ]\n",
      " ...\n",
      " [ 1.27083757 -0.39228267]\n",
      " [ 0.72732722 -0.51835592]\n",
      " [ 0.49290678  1.02601557]]\n"
     ]
    }
   ],
   "source": [
    "# Load moons data\n",
    "X,y = make_moons(n_samples=2000, noise=0.1)\n",
    "print(X)"
   ]
  },
  {
   "cell_type": "code",
   "execution_count": 4,
   "id": "554b0c60",
   "metadata": {},
   "outputs": [
    {
     "data": {
      "image/png": "[encoded data removed]",
      "text/plain": [
       "<Figure size 432x288 with 1 Axes>"
      ]
     },
     "metadata": {
      "needs_background": "light"
     },
     "output_type": "display_data"
    }
   ],
   "source": [
    "# Plot the moons data points\n",
    "df = pd.DataFrame(dict(x=X[:,0],y=X[:,1],label=y))\n",
    "colors = {0:'red', 1: 'blue'}\n",
    "fig, ax = plt.subplots()\n",
    "grouped = df.groupby('label')\n",
    "for key, group in grouped:\n",
    "    group.plot(ax=ax, kind='scatter',x='x', y='y', label=key, color=colors[key])"
   ]
  },
  {
   "cell_type": "code",
   "execution_count": 5,
   "id": "f12a6277",
   "metadata": {},
   "outputs": [
    {
     "name": "stdout",
     "output_type": "stream",
     "text": [
      "             x         y  label\n",
      "0     0.652777  0.566408      0\n",
      "1     0.284922 -0.256529      1\n",
      "2    -0.179193  0.938596      0\n",
      "3    -0.041860  1.129356      0\n",
      "4     0.737321  0.659941      0\n",
      "...        ...       ...    ...\n",
      "1995  1.875405  0.435099      1\n",
      "1996  1.081926 -0.400663      1\n",
      "1997  1.270838 -0.392283      1\n",
      "1998  0.727327 -0.518356      1\n",
      "1999  0.492907  1.026016      0\n",
      "\n",
      "[2000 rows x 3 columns]\n"
     ]
    }
   ],
   "source": [
    "print(df)"
   ]
  },
  {
   "cell_type": "code",
   "execution_count": 6,
   "id": "b05be0c0",
   "metadata": {},
   "outputs": [],
   "source": [
    "#X and y for the model\n",
    "x_model = df[['x','y']]\n",
    "y_model = df.label"
   ]
  },
  {
   "cell_type": "code",
   "execution_count": 7,
   "id": "ab87e0ee",
   "metadata": {},
   "outputs": [
    {
     "name": "stdout",
     "output_type": "stream",
     "text": [
      "             x         y\n",
      "0     0.652777  0.566408\n",
      "1     0.284922 -0.256529\n",
      "2    -0.179193  0.938596\n",
      "3    -0.041860  1.129356\n",
      "4     0.737321  0.659941\n",
      "...        ...       ...\n",
      "1995  1.875405  0.435099\n",
      "1996  1.081926 -0.400663\n",
      "1997  1.270838 -0.392283\n",
      "1998  0.727327 -0.518356\n",
      "1999  0.492907  1.026016\n",
      "\n",
      "[2000 rows x 2 columns]\n"
     ]
    }
   ],
   "source": [
    "print(x_model)"
   ]
  },
  {
   "cell_type": "code",
   "execution_count": 8,
   "id": "38b155ae",
   "metadata": {},
   "outputs": [
    {
     "name": "stdout",
     "output_type": "stream",
     "text": [
      "0       0\n",
      "1       1\n",
      "2       0\n",
      "3       0\n",
      "4       0\n",
      "       ..\n",
      "1995    1\n",
      "1996    1\n",
      "1997    1\n",
      "1998    1\n",
      "1999    0\n",
      "Name: label, Length: 2000, dtype: int64\n"
     ]
    }
   ],
   "source": [
    "print(y_model)"
   ]
  },
  {
   "cell_type": "code",
   "execution_count": 9,
   "id": "f8362ea0",
   "metadata": {},
   "outputs": [],
   "source": [
    "# Create MLP\n",
    "def create_model(lr_rate):\n",
    "    model = Sequential()\n",
    "    model.add(Dense(64, activation = 'relu'))\n",
    "    model.add(Dense(1, activation = 'sigmoid'))\n",
    "    opt = SGD(learning_rate=lr_rate)\n",
    "    model.compile(optimizer=opt, loss='binary_crossentropy', metrics=['accuracy'])\n",
    "    return model"
   ]
  },
  {
   "cell_type": "code",
   "execution_count": 10,
   "id": "89bba5f8",
   "metadata": {},
   "outputs": [],
   "source": [
    "# Logistic regression function \n",
    "def logistic_regression(name, lr_rate, batch):\n",
    "    \n",
    "    #Tensorboard\n",
    "    log_dir = \"logs/fit/\" + datetime.datetime.now().strftime(\"%Y%m%d-%H%M%S\")\n",
    "    tensorboard = TensorBoard(log_dir=log_dir, histogram_freq=1, write_graph=True, write_images=True, update_freq='epoch')\n",
    "    \n",
    "    #Checkpoint\n",
    "    chekpoint_path= name + \".Q4.weights.best.hdf5\"\n",
    "    checkpoint = ModelCheckpoint(chekpoint_path, monitor='val_accuracy', verbose=1, save_best_only=True, mode='max')\n",
    "    \n",
    "    callbacks = [tensorboard, checkpoint]\n",
    "    \n",
    "    if exists(chekpoint_path):\n",
    "        # Load model\n",
    "        model = load_model(chekpoint_path)\n",
    "        # Finding the epoch index from which we are resuming\n",
    "        initial_epoch = 0\n",
    "    else:\n",
    "        model = create_model(lr_rate)\n",
    "        initial_epoch = 0\n",
    "    \n",
    "    # Fit the model\n",
    "    x_train, x_test, y_train, y_test = train_test_split(x_model, y_model, test_size=0.33, random_state=1)\n",
    "    model.fit(x_train, y_train, validation_data=(x_test, y_test), batch_size=batch, epochs=100, callbacks=callbacks, initial_epoch=initial_epoch)\n",
    "    \n",
    "    return model, x_train, x_test, y_train, y_test"
   ]
  },
  {
   "cell_type": "code",
   "execution_count": null,
   "id": "9a60667f",
   "metadata": {
    "scrolled": true
   },
   "outputs": [],
   "source": [
    "model, xTrain, xTest, yTrain, yTest = logistic_regression(\"first\", 0.01, 16)"
   ]
  },
  {
   "cell_type": "code",
   "execution_count": 12,
   "id": "8815a0fd",
   "metadata": {},
   "outputs": [
    {
     "name": "stdout",
     "output_type": "stream",
     "text": [
      "Train accuracy: 0.894, Test accuracy: 0.911\n"
     ]
    }
   ],
   "source": [
    "# Print training accuracy & test accuracy\n",
    "_, train_acc = model.evaluate(xTrain, yTrain, verbose=0)\n",
    "_, test_acc = model.evaluate(xTest, yTest, verbose=0)\n",
    "print('Train accuracy: %.3f, Test accuracy: %.3f' % (train_acc, test_acc))"
   ]
  },
  {
   "cell_type": "code",
   "execution_count": null,
   "id": "7d9795b1",
   "metadata": {
    "scrolled": true
   },
   "outputs": [],
   "source": [
    "# Tweaking hyperparameters\n",
    "model, xTrain, xTest, yTrain, yTest = logistic_regression(\"second\", 0.01, 32)"
   ]
  },
  {
   "cell_type": "code",
   "execution_count": 14,
   "id": "352733cc",
   "metadata": {},
   "outputs": [
    {
     "name": "stdout",
     "output_type": "stream",
     "text": [
      "Train accuracy: 0.890, Test accuracy: 0.895\n"
     ]
    }
   ],
   "source": [
    "# Print training accuracy & test accuracy\n",
    "_, train_acc = model.evaluate(xTrain, yTrain, verbose=0)\n",
    "_, test_acc = model.evaluate(xTest, yTest, verbose=0)\n",
    "print('Train accuracy: %.3f, Test accuracy: %.3f' % (train_acc, test_acc))"
   ]
  },
  {
   "cell_type": "code",
   "execution_count": null,
   "id": "c66ff361",
   "metadata": {
    "scrolled": true
   },
   "outputs": [],
   "source": [
    "# Tweaking hyperparameters\n",
    "model, xTrain, xTest, yTrain, yTest = logistic_regression(\"third\", 0.05, 16)"
   ]
  },
  {
   "cell_type": "code",
   "execution_count": 16,
   "id": "ecb38025",
   "metadata": {},
   "outputs": [
    {
     "name": "stdout",
     "output_type": "stream",
     "text": [
      "Train accuracy: 0.996, Test accuracy: 0.997\n"
     ]
    }
   ],
   "source": [
    "# Print training accuracy & test accuracy\n",
    "_, train_acc = model.evaluate(xTrain, yTrain, verbose=0)\n",
    "_, test_acc = model.evaluate(xTest, yTest, verbose=0)\n",
    "print('Train accuracy: %.3f, Test accuracy: %.3f' % (train_acc, test_acc))"
   ]
  },
  {
   "cell_type": "code",
   "execution_count": null,
   "id": "6576488b",
   "metadata": {},
   "outputs": [],
   "source": []
  }
 ],
 "metadata": {
  "kernelspec": {
   "display_name": "Python 3",
   "language": "python",
   "name": "python3"
  },
  "language_info": {
   "codemirror_mode": {
    "name": "ipython",
    "version": 3
   },
   "file_extension": ".py",
   "mimetype": "text/x-python",
   "name": "python",
   "nbconvert_exporter": "python",
   "pygments_lexer": "ipython3",
   "version": "3.9.7"
  }
 },
 "nbformat": 4,
 "nbformat_minor": 5
}
