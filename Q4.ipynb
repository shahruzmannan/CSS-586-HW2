{
 "cells": [
  {
   "cell_type": "code",
   "execution_count": 1,
   "id": "1a8d8ac6",
   "metadata": {},
   "outputs": [],
   "source": [
    "import pandas as pd\n",
    "import numpy as np\n",
    "import matplotlib.pyplot as plt\n",
    "from sklearn.datasets import make_moons\n",
    "\n",
    "from tensorflow.keras.optimizers import SGD\n",
    "\n",
    "from keras.models import Sequential, load_model\n",
    "from keras.layers import Dense\n",
    "\n",
    "from keras.callbacks import TensorBoard\n",
    "from keras.callbacks import ModelCheckpoint\n",
    "\n",
    "from sklearn.model_selection import train_test_split\n",
    "from os.path import exists\n",
    "import datetime"
   ]
  },
  {
   "cell_type": "code",
   "execution_count": 2,
   "id": "e9c63316",
   "metadata": {},
   "outputs": [],
   "source": [
    "# Load the TensorBoard notebook extension\n",
    "%load_ext tensorboard"
   ]
  },
  {
   "cell_type": "code",
   "execution_count": 3,
   "id": "9c32e4ab",
   "metadata": {},
   "outputs": [
    {
     "name": "stdout",
     "output_type": "stream",
     "text": [
      "[[ 0.25519738 -0.13210767]\n",
      " [-0.98360197  0.13846482]\n",
      " [-0.71057256  0.55008828]\n",
      " ...\n",
      " [-0.93409168  0.17934887]\n",
      " [ 1.55055993 -0.35340141]\n",
      " [-0.91977368  0.73223556]]\n"
     ]
    }
   ],
   "source": [
    "# Load moons data\n",
    "X,y = make_moons(n_samples=2000, noise=0.1)\n",
    "print(X)"
   ]
  },
  {
   "cell_type": "code",
   "execution_count": 4,
   "id": "554b0c60",
   "metadata": {},
   "outputs": [
    {
     "data": {
      "image/png": "[encoded data removed]",
      "text/plain": [
       "<Figure size 432x288 with 1 Axes>"
      ]
     },
     "metadata": {
      "needs_background": "light"
     },
     "output_type": "display_data"
    }
   ],
   "source": [
    "# Plot the moons data points\n",
    "df = pd.DataFrame(dict(x=X[:,0],y=X[:,1],label=y))\n",
    "colors = {0:'red', 1: 'blue'}\n",
    "fig, ax = plt.subplots()\n",
    "grouped = df.groupby('label')\n",
    "for key, group in grouped:\n",
    "    group.plot(ax=ax, kind='scatter',x='x', y='y', label=key, color=colors[key])"
   ]
  },
  {
   "cell_type": "code",
   "execution_count": 5,
   "id": "f12a6277",
   "metadata": {},
   "outputs": [
    {
     "name": "stdout",
     "output_type": "stream",
     "text": [
      "             x         y  label\n",
      "0     0.255197 -0.132108      1\n",
      "1    -0.983602  0.138465      0\n",
      "2    -0.710573  0.550088      0\n",
      "3     1.896667 -0.086959      1\n",
      "4     2.059415  0.080709      1\n",
      "...        ...       ...    ...\n",
      "1995 -0.460164  0.992303      0\n",
      "1996  0.826750  0.816901      0\n",
      "1997 -0.934092  0.179349      0\n",
      "1998  1.550560 -0.353401      1\n",
      "1999 -0.919774  0.732236      0\n",
      "\n",
      "[2000 rows x 3 columns]\n"
     ]
    }
   ],
   "source": [
    "print(df)"
   ]
  },
  {
   "cell_type": "code",
   "execution_count": 6,
   "id": "b05be0c0",
   "metadata": {},
   "outputs": [],
   "source": [
    "#X and y for the model\n",
    "x_model = df[['x','y']]\n",
    "y_model = df.label"
   ]
  },
  {
   "cell_type": "code",
   "execution_count": 7,
   "id": "ab87e0ee",
   "metadata": {},
   "outputs": [
    {
     "name": "stdout",
     "output_type": "stream",
     "text": [
      "             x         y\n",
      "0     0.255197 -0.132108\n",
      "1    -0.983602  0.138465\n",
      "2    -0.710573  0.550088\n",
      "3     1.896667 -0.086959\n",
      "4     2.059415  0.080709\n",
      "...        ...       ...\n",
      "1995 -0.460164  0.992303\n",
      "1996  0.826750  0.816901\n",
      "1997 -0.934092  0.179349\n",
      "1998  1.550560 -0.353401\n",
      "1999 -0.919774  0.732236\n",
      "\n",
      "[2000 rows x 2 columns]\n"
     ]
    }
   ],
   "source": [
    "print(x_model)"
   ]
  },
  {
   "cell_type": "code",
   "execution_count": 8,
   "id": "38b155ae",
   "metadata": {},
   "outputs": [
    {
     "name": "stdout",
     "output_type": "stream",
     "text": [
      "0       1\n",
      "1       0\n",
      "2       0\n",
      "3       1\n",
      "4       1\n",
      "       ..\n",
      "1995    0\n",
      "1996    0\n",
      "1997    0\n",
      "1998    1\n",
      "1999    0\n",
      "Name: label, Length: 2000, dtype: int64\n"
     ]
    }
   ],
   "source": [
    "print(y_model)"
   ]
  },
  {
   "cell_type": "code",
   "execution_count": 9,
   "id": "f8362ea0",
   "metadata": {},
   "outputs": [],
   "source": [
    "# Create MLP\n",
    "def create_model(lr_rate):\n",
    "    model = Sequential()\n",
    "    model.add(Dense(64, activation = 'relu'))\n",
    "    model.add(Dense(1, activation = 'sigmoid'))\n",
    "    opt = SGD(learning_rate=lr_rate)\n",
    "    model.compile(optimizer=opt, loss='binary_crossentropy', metrics=['accuracy'])\n",
    "    return model"
   ]
  },
  {
   "cell_type": "code",
   "execution_count": 10,
   "id": "89bba5f8",
   "metadata": {},
   "outputs": [],
   "source": [
    "# Logistic regression function \n",
    "def logistic_regression(name, lr_rate, batch):\n",
    "    \n",
    "    #Tensorboard\n",
    "    log_dir = \"logs/fit/\" + datetime.datetime.now().strftime(\"%Y%m%d-%H%M%S\")\n",
    "    tensorboard = TensorBoard(log_dir=log_dir, histogram_freq=1, write_graph=True, write_images=True, update_freq='epoch')\n",
    "    \n",
    "    #Checkpoint\n",
    "    chekpoint_path= name + \".Q4.weights.best.hdf5\"\n",
    "    checkpoint = ModelCheckpoint(chekpoint_path, monitor='val_accuracy', verbose=1, save_best_only=True, mode='max')\n",
    "    \n",
    "    callbacks = [tensorboard, checkpoint]\n",
    "    \n",
    "    if exists(chekpoint_path):\n",
    "        # Load model\n",
    "        model = load_model(chekpoint_path)\n",
    "        # Finding the epoch index from which we are resuming\n",
    "        initial_epoch = 0\n",
    "    else:\n",
    "        model = create_model(lr_rate)\n",
    "        initial_epoch = 0\n",
    "    \n",
    "    # Fit the model\n",
    "    x_train, x_test, y_train, y_test = train_test_split(x_model, y_model, test_size=0.33, random_state=1)\n",
    "    model.fit(x_train, y_train, validation_data=(x_test, y_test), batch_size=batch, epochs=100, callbacks=callbacks, initial_epoch=initial_epoch)\n",
    "    \n",
    "    return model, x_train, x_test, y_train, y_test"
   ]
  },
  {
   "cell_type": "code",
   "execution_count": null,
   "id": "9a60667f",
   "metadata": {
    "scrolled": true
   },
   "outputs": [],
   "source": [
    "model, xTrain, xTest, yTrain, yTest = logistic_regression(\"first\", 0.01, 16)"
   ]
  },
  {
   "cell_type": "code",
   "execution_count": 12,
   "id": "8815a0fd",
   "metadata": {},
   "outputs": [
    {
     "name": "stdout",
     "output_type": "stream",
     "text": [
      "Train accuracy: 0.892, Test accuracy: 0.906\n"
     ]
    }
   ],
   "source": [
    "# Print training accuracy & test accuracy\n",
    "_, train_acc = model.evaluate(xTrain, yTrain, verbose=0)\n",
    "_, test_acc = model.evaluate(xTest, yTest, verbose=0)\n",
    "print('Train accuracy: %.3f, Test accuracy: %.3f' % (train_acc, test_acc))"
   ]
  },
  {
   "cell_type": "code",
   "execution_count": null,
   "id": "7d9795b1",
   "metadata": {
    "scrolled": true
   },
   "outputs": [],
   "source": [
    "# Tweaking hyperparameters\n",
    "model, xTrain, xTest, yTrain, yTest = logistic_regression(\"second\", 0.01, 32)"
   ]
  },
  {
   "cell_type": "code",
   "execution_count": 14,
   "id": "352733cc",
   "metadata": {},
   "outputs": [
    {
     "name": "stdout",
     "output_type": "stream",
     "text": [
      "Train accuracy: 0.887, Test accuracy: 0.898\n"
     ]
    }
   ],
   "source": [
    "# Print training accuracy & test accuracy\n",
    "_, train_acc = model.evaluate(xTrain, yTrain, verbose=0)\n",
    "_, test_acc = model.evaluate(xTest, yTest, verbose=0)\n",
    "print('Train accuracy: %.3f, Test accuracy: %.3f' % (train_acc, test_acc))"
   ]
  },
  {
   "cell_type": "code",
   "execution_count": null,
   "id": "c66ff361",
   "metadata": {
    "scrolled": true
   },
   "outputs": [],
   "source": [
    "# Tweaking hyperparameters\n",
    "model, xTrain, xTest, yTrain, yTest = logistic_regression(\"third\", 0.2, 16)"
   ]
  },
  {
   "cell_type": "code",
   "execution_count": 16,
   "id": "ecb38025",
   "metadata": {},
   "outputs": [
    {
     "name": "stdout",
     "output_type": "stream",
     "text": [
      "Train accuracy: 0.999, Test accuracy: 1.000\n"
     ]
    }
   ],
   "source": [
    "# Print training accuracy & test accuracy\n",
    "_, train_acc = model.evaluate(xTrain, yTrain, verbose=0)\n",
    "_, test_acc = model.evaluate(xTest, yTest, verbose=0)\n",
    "print('Train accuracy: %.3f, Test accuracy: %.3f' % (train_acc, test_acc))"
   ]
  },
  {
   "cell_type": "code",
   "execution_count": null,
   "id": "6576488b",
   "metadata": {},
   "outputs": [],
   "source": []
  }
 ],
 "metadata": {
  "kernelspec": {
   "display_name": "Python 3",
   "language": "python",
   "name": "python3"
  },
  "language_info": {
   "codemirror_mode": {
    "name": "ipython",
    "version": 3
   },
   "file_extension": ".py",
   "mimetype": "text/x-python",
   "name": "python",
   "nbconvert_exporter": "python",
   "pygments_lexer": "ipython3",
   "version": "3.9.7"
  }
 },
 "nbformat": 4,
 "nbformat_minor": 5
}
